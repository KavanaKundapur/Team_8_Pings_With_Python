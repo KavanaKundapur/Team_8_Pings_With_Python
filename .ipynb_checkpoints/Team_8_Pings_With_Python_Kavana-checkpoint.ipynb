{
 "cells": [
  {
   "cell_type": "markdown",
   "id": "0987509b",
   "metadata": {},
   "source": [
    "# Importing libraries"
   ]
  },
  {
   "cell_type": "code",
   "execution_count": 1,
   "id": "2a6dd114",
   "metadata": {},
   "outputs": [],
   "source": [
    "# Import the required libraries\n",
    "\n",
    "import pandas as pd\n",
    "import numpy as np\n",
    "\n",
    "import re\n",
    "import regex\n",
    "import datetime as date\n",
    "from collections import Counter\n",
    "\n",
    "import sqlite3\n",
    "\n",
    "import seaborn as sns\n",
    "import matplotlib.pyplot as plt\n",
    "from matplotlib.patches import Ellipse, Polygon\n",
    "\n",
    "from pandas import ExcelWriter\n",
    "from pandas import ExcelFile"
   ]
  },
  {
   "cell_type": "markdown",
   "id": "dd0c8f1e",
   "metadata": {},
   "source": [
    " # Q 1. Make a pair plot on Readmission Registry table & do u see any correlation between columns values."
   ]
  },
  {
   "cell_type": "code",
   "execution_count": null,
   "id": "bf9c165f",
   "metadata": {},
   "outputs": [],
   "source": []
  },
  {
   "cell_type": "code",
   "execution_count": null,
   "id": "38d94dce",
   "metadata": {},
   "outputs": [],
   "source": []
  },
  {
   "cell_type": "code",
   "execution_count": null,
   "id": "460c96f6",
   "metadata": {},
   "outputs": [],
   "source": []
  },
  {
   "cell_type": "markdown",
   "id": "a80d826d",
   "metadata": {},
   "source": [
    "# Answer - "
   ]
  },
  {
   "cell_type": "markdown",
   "id": "c2a82ecb",
   "metadata": {},
   "source": [
    "# Bonus : "
   ]
  },
  {
   "cell_type": "markdown",
   "id": "23db0523",
   "metadata": {},
   "source": [
    "# Q 2. Using iloc, retrieve the firstname and lastname of patients between indices 101 and 200."
   ]
  },
  {
   "cell_type": "code",
   "execution_count": null,
   "id": "b9c891b1",
   "metadata": {},
   "outputs": [],
   "source": []
  },
  {
   "cell_type": "code",
   "execution_count": null,
   "id": "f6cfab80",
   "metadata": {},
   "outputs": [],
   "source": []
  },
  {
   "cell_type": "markdown",
   "id": "a0133ddf",
   "metadata": {},
   "source": [
    "# Answer: "
   ]
  },
  {
   "cell_type": "markdown",
   "id": "6cbfdbfa",
   "metadata": {},
   "source": [
    "# Q 3. Create a figure object called fig using plt.figure() **\n",
    "#### Use add_axes to add an axis to the figure canvas at [0,0,1,1]. Call this new axis ax. \n",
    "#### ** Plot (x,y) on that axes and set the labels. \n",
    "#### Note : You can plot on any x,y set of values."
   ]
  },
  {
   "cell_type": "code",
   "execution_count": null,
   "id": "ca5b516a",
   "metadata": {},
   "outputs": [],
   "source": []
  },
  {
   "cell_type": "markdown",
   "id": "401e9460",
   "metadata": {},
   "source": [
    "# Q 4.Display data by splitting age in 4 quartiles and labeling the quartiles."
   ]
  },
  {
   "cell_type": "code",
   "execution_count": null,
   "id": "2b4259fd",
   "metadata": {},
   "outputs": [],
   "source": []
  },
  {
   "cell_type": "code",
   "execution_count": null,
   "id": "3d2c3419",
   "metadata": {},
   "outputs": [],
   "source": []
  },
  {
   "cell_type": "markdown",
   "id": "39f59c37",
   "metadata": {},
   "source": [
    "# Q 5. Display full name of patients who are born in 1986."
   ]
  },
  {
   "cell_type": "code",
   "execution_count": null,
   "id": "0ff5c99c",
   "metadata": {},
   "outputs": [],
   "source": []
  },
  {
   "cell_type": "code",
   "execution_count": null,
   "id": "9adf8025",
   "metadata": {},
   "outputs": [],
   "source": []
  },
  {
   "cell_type": "code",
   "execution_count": null,
   "id": "5b35260a",
   "metadata": {},
   "outputs": [],
   "source": []
  },
  {
   "cell_type": "markdown",
   "id": "03e56da7",
   "metadata": {},
   "source": [
    "# Q 6.Create a jointplot on expected mortality & expected length of stay."
   ]
  },
  {
   "cell_type": "code",
   "execution_count": null,
   "id": "eecc848f",
   "metadata": {},
   "outputs": [],
   "source": []
  },
  {
   "cell_type": "code",
   "execution_count": null,
   "id": "169f2ab4",
   "metadata": {},
   "outputs": [],
   "source": []
  },
  {
   "cell_type": "markdown",
   "id": "ee46c00b",
   "metadata": {},
   "source": [
    "# Q 7. Create a pair plot on whole dataframe by taking parameter \"hue\" as EDDisposition.\n"
   ]
  },
  {
   "cell_type": "code",
   "execution_count": null,
   "id": "adf67105",
   "metadata": {},
   "outputs": [],
   "source": []
  },
  {
   "cell_type": "code",
   "execution_count": null,
   "id": "f009582c",
   "metadata": {},
   "outputs": [],
   "source": []
  },
  {
   "cell_type": "markdown",
   "id": "806afdef",
   "metadata": {},
   "source": [
    "# Q 8. Create a bar chart between expectedLOS & Primary diagnosis."
   ]
  },
  {
   "cell_type": "code",
   "execution_count": null,
   "id": "31774350",
   "metadata": {},
   "outputs": [],
   "source": []
  },
  {
   "cell_type": "code",
   "execution_count": null,
   "id": "be63f65f",
   "metadata": {},
   "outputs": [],
   "source": []
  },
  {
   "cell_type": "markdown",
   "id": "412ea687",
   "metadata": {},
   "source": [
    "# Q 9. Get the list of patient ID's which are not there in ReadmissionRegistry."
   ]
  },
  {
   "cell_type": "code",
   "execution_count": null,
   "id": "e000fc20",
   "metadata": {},
   "outputs": [],
   "source": []
  },
  {
   "cell_type": "code",
   "execution_count": null,
   "id": "37a8c3ff",
   "metadata": {},
   "outputs": [],
   "source": []
  },
  {
   "cell_type": "markdown",
   "id": "b31a8c32",
   "metadata": {},
   "source": [
    "# Q 10. Create a boxplot on ExpectedLOS by taking service into account."
   ]
  },
  {
   "cell_type": "code",
   "execution_count": null,
   "id": "26ece5b8",
   "metadata": {},
   "outputs": [],
   "source": []
  },
  {
   "cell_type": "code",
   "execution_count": null,
   "id": "5d36ba90",
   "metadata": {
    "scrolled": true
   },
   "outputs": [],
   "source": []
  },
  {
   "cell_type": "markdown",
   "id": "4928763c",
   "metadata": {},
   "source": [
    "# Q 11. Create a pie chart by taking Service= [\"ICU\", \"Neurology\", \"General\", \"Medicine\"] & ExpectedLOS=[10,5,7,9] & explode the wedge with highest LOS."
   ]
  },
  {
   "cell_type": "code",
   "execution_count": null,
   "id": "d978f28b",
   "metadata": {},
   "outputs": [],
   "source": []
  },
  {
   "cell_type": "code",
   "execution_count": null,
   "id": "557216c0",
   "metadata": {},
   "outputs": [],
   "source": []
  },
  {
   "cell_type": "code",
   "execution_count": null,
   "id": "ec53ca56",
   "metadata": {},
   "outputs": [],
   "source": []
  },
  {
   "cell_type": "markdown",
   "id": "a4c5d699",
   "metadata": {},
   "source": [
    "# Q 12. Connect to sql and write a query to get list of Provider names whose Providername is starting with letter T. (Attach screenshots for this question)"
   ]
  },
  {
   "cell_type": "code",
   "execution_count": null,
   "id": "333a3f51",
   "metadata": {},
   "outputs": [],
   "source": []
  },
  {
   "cell_type": "code",
   "execution_count": null,
   "id": "b3b466f2",
   "metadata": {},
   "outputs": [],
   "source": []
  },
  {
   "cell_type": "markdown",
   "id": "fd5b2cd4",
   "metadata": {},
   "source": [
    "# Q 13. Create a subplot on x = np.arange(0, 10, 0.1) , y = np.sin(np.pi * x) + x with 2 rows & 2 columns with object oriented approach."
   ]
  },
  {
   "cell_type": "code",
   "execution_count": null,
   "id": "a39df0a1",
   "metadata": {},
   "outputs": [],
   "source": []
  },
  {
   "cell_type": "markdown",
   "id": "c1843e62",
   "metadata": {},
   "source": [
    "# Q 14. Find the number of null values in BloodPressureSystolic column."
   ]
  },
  {
   "cell_type": "code",
   "execution_count": null,
   "id": "ce1fcccf",
   "metadata": {},
   "outputs": [],
   "source": []
  },
  {
   "cell_type": "code",
   "execution_count": null,
   "id": "96a125cc",
   "metadata": {},
   "outputs": [],
   "source": []
  },
  {
   "cell_type": "markdown",
   "id": "0920d9fb",
   "metadata": {},
   "source": [
    "# Q 15. Replace all the null values in ReadmissionFlag with 0."
   ]
  },
  {
   "cell_type": "code",
   "execution_count": null,
   "id": "bc12541a",
   "metadata": {},
   "outputs": [],
   "source": []
  },
  {
   "cell_type": "code",
   "execution_count": null,
   "id": "47719557",
   "metadata": {},
   "outputs": [],
   "source": []
  },
  {
   "cell_type": "code",
   "execution_count": null,
   "id": "bd858e1f",
   "metadata": {},
   "outputs": [],
   "source": []
  },
  {
   "cell_type": "code",
   "execution_count": null,
   "id": "b4ba8e74",
   "metadata": {},
   "outputs": [],
   "source": []
  },
  {
   "cell_type": "markdown",
   "id": "6618fe20",
   "metadata": {},
   "source": [
    "# Q 16. Plot a graph to show the distribution of expected length of stay."
   ]
  },
  {
   "cell_type": "code",
   "execution_count": null,
   "id": "05ab5c4a",
   "metadata": {},
   "outputs": [],
   "source": []
  },
  {
   "cell_type": "code",
   "execution_count": null,
   "id": "2f685a57",
   "metadata": {},
   "outputs": [],
   "source": []
  },
  {
   "cell_type": "markdown",
   "id": "a217580e",
   "metadata": {},
   "source": [
    "# Q 17.Create a heat map to show the correlation between the column values of Edvisits. "
   ]
  },
  {
   "cell_type": "code",
   "execution_count": null,
   "id": "e80dc3ba",
   "metadata": {},
   "outputs": [],
   "source": []
  },
  {
   "cell_type": "code",
   "execution_count": null,
   "id": "0faa934e",
   "metadata": {},
   "outputs": [],
   "source": []
  },
  {
   "cell_type": "markdown",
   "id": "2d0f4a2b",
   "metadata": {},
   "source": [
    "# Q 18.Add column 'Age' in Patient table."
   ]
  },
  {
   "cell_type": "code",
   "execution_count": null,
   "id": "b8730b69",
   "metadata": {},
   "outputs": [],
   "source": []
  },
  {
   "cell_type": "code",
   "execution_count": null,
   "id": "c84c1b62",
   "metadata": {},
   "outputs": [],
   "source": []
  },
  {
   "cell_type": "markdown",
   "id": "869aa494",
   "metadata": {},
   "source": [
    "# Q 19. Create a dataframe with date and time as columns, where the values are the discharge time from readmissionregistry sheet."
   ]
  },
  {
   "cell_type": "code",
   "execution_count": null,
   "id": "517b6e9e",
   "metadata": {},
   "outputs": [],
   "source": []
  },
  {
   "cell_type": "code",
   "execution_count": null,
   "id": "ba438bc8",
   "metadata": {},
   "outputs": [],
   "source": []
  },
  {
   "cell_type": "markdown",
   "id": "5a247052",
   "metadata": {},
   "source": [
    "# Q 20. Count of number of patients admitted based on Primary Diagnosis and Service provided."
   ]
  },
  {
   "cell_type": "code",
   "execution_count": null,
   "id": "bc1b4592",
   "metadata": {},
   "outputs": [],
   "source": []
  },
  {
   "cell_type": "code",
   "execution_count": null,
   "id": "70f57622",
   "metadata": {},
   "outputs": [],
   "source": []
  },
  {
   "cell_type": "code",
   "execution_count": null,
   "id": "469dc705",
   "metadata": {},
   "outputs": [],
   "source": []
  },
  {
   "cell_type": "code",
   "execution_count": null,
   "id": "3f23c1f0",
   "metadata": {},
   "outputs": [],
   "source": []
  },
  {
   "cell_type": "markdown",
   "id": "0afbeaa7",
   "metadata": {},
   "source": [
    "# Q 21. Which demographic patients are prone to get stroke."
   ]
  },
  {
   "cell_type": "code",
   "execution_count": null,
   "id": "f16cd920",
   "metadata": {},
   "outputs": [],
   "source": []
  },
  {
   "cell_type": "markdown",
   "id": "3e64afa4",
   "metadata": {},
   "source": [
    "# Q 22. Create a dataframe with acuity and EDDisposition as the indices and the count of number of patients as the value."
   ]
  },
  {
   "cell_type": "code",
   "execution_count": null,
   "id": "e0d7e100",
   "metadata": {},
   "outputs": [],
   "source": []
  },
  {
   "cell_type": "markdown",
   "id": "3e143236",
   "metadata": {},
   "source": [
    "# Q 23. write a function to find the center element in the list. (one element in odd length list, two elements in even length list)."
   ]
  },
  {
   "cell_type": "code",
   "execution_count": null,
   "id": "0728055f",
   "metadata": {},
   "outputs": [],
   "source": []
  },
  {
   "cell_type": "code",
   "execution_count": null,
   "id": "3f9efaa1",
   "metadata": {},
   "outputs": [],
   "source": []
  },
  {
   "cell_type": "markdown",
   "id": "8ae53c55",
   "metadata": {},
   "source": [
    "# Q 24. Get the number of patients based on ReasonForVisit and EDDisposition (use stack/unstack functions). "
   ]
  },
  {
   "cell_type": "code",
   "execution_count": null,
   "id": "e6a7d8f5",
   "metadata": {},
   "outputs": [],
   "source": []
  },
  {
   "cell_type": "markdown",
   "id": "96c8ef4c",
   "metadata": {},
   "source": [
    "# Q 25. Plot a graph by counting the no. of patients in each department."
   ]
  },
  {
   "cell_type": "code",
   "execution_count": null,
   "id": "0992d676",
   "metadata": {},
   "outputs": [],
   "source": []
  },
  {
   "cell_type": "markdown",
   "id": "e1f4f858",
   "metadata": {},
   "source": [
    "# Q 26. Using arrays and loops, find the count of patients based on gender."
   ]
  },
  {
   "cell_type": "code",
   "execution_count": null,
   "id": "5d8408be",
   "metadata": {},
   "outputs": [],
   "source": []
  },
  {
   "cell_type": "code",
   "execution_count": null,
   "id": "d4037f5e",
   "metadata": {},
   "outputs": [],
   "source": []
  },
  {
   "cell_type": "code",
   "execution_count": null,
   "id": "d5df71f9",
   "metadata": {},
   "outputs": [],
   "source": []
  },
  {
   "cell_type": "markdown",
   "id": "e6b9f27f",
   "metadata": {},
   "source": [
    "# Q 27. Plot a graph to count the patients based on discharge disposition."
   ]
  },
  {
   "cell_type": "code",
   "execution_count": null,
   "id": "6d0a154d",
   "metadata": {},
   "outputs": [],
   "source": []
  },
  {
   "cell_type": "markdown",
   "id": "b1e646d9",
   "metadata": {},
   "source": [
    "# Q 28. Which reason of visit has maximum mortality rate."
   ]
  },
  {
   "cell_type": "code",
   "execution_count": null,
   "id": "80045e93",
   "metadata": {},
   "outputs": [],
   "source": []
  },
  {
   "cell_type": "markdown",
   "id": "67461910",
   "metadata": {},
   "source": [
    "# Answer : "
   ]
  },
  {
   "cell_type": "markdown",
   "id": "816f336c",
   "metadata": {},
   "source": [
    "# Q 29. Calculate average LOS."
   ]
  },
  {
   "cell_type": "code",
   "execution_count": null,
   "id": "eee88d44",
   "metadata": {},
   "outputs": [],
   "source": []
  },
  {
   "cell_type": "markdown",
   "id": "50f298b1",
   "metadata": {},
   "source": [
    "# Answer: "
   ]
  },
  {
   "cell_type": "markdown",
   "id": "0711b013",
   "metadata": {},
   "source": [
    "# Q 30. Which patient id has most entries in readmission registry."
   ]
  },
  {
   "cell_type": "code",
   "execution_count": null,
   "id": "afe930e8",
   "metadata": {},
   "outputs": [],
   "source": []
  },
  {
   "cell_type": "markdown",
   "id": "cec00958",
   "metadata": {},
   "source": [
    "# Answer: "
   ]
  },
  {
   "cell_type": "markdown",
   "id": "d969b0f5",
   "metadata": {},
   "source": [
    "# Q 31. Find the count of White Spanish Male."
   ]
  },
  {
   "cell_type": "code",
   "execution_count": null,
   "id": "59139cc8",
   "metadata": {},
   "outputs": [],
   "source": []
  },
  {
   "cell_type": "markdown",
   "id": "ec117223",
   "metadata": {},
   "source": [
    "# Q 32. If patient's gender is Female, add Ms.to the name and for male patients add Mr. to the name."
   ]
  },
  {
   "cell_type": "code",
   "execution_count": null,
   "id": "7e03b1c4",
   "metadata": {},
   "outputs": [],
   "source": []
  },
  {
   "cell_type": "markdown",
   "id": "0edb94ff",
   "metadata": {},
   "source": [
    "# Q 33. Using a bar chart, which Service had the lowest count of Expected Mortality?"
   ]
  },
  {
   "cell_type": "code",
   "execution_count": null,
   "id": "5f71375e",
   "metadata": {},
   "outputs": [],
   "source": []
  },
  {
   "cell_type": "markdown",
   "id": "e7caff5a",
   "metadata": {},
   "source": [
    "# Answer : "
   ]
  },
  {
   "cell_type": "markdown",
   "id": "8b1d506a",
   "metadata": {},
   "source": [
    "# Q 34. np.arange(1,31).reshape(6,5) Find the array slicing to get the elements with values 11,12,16,17."
   ]
  },
  {
   "cell_type": "code",
   "execution_count": null,
   "id": "0af4d499",
   "metadata": {},
   "outputs": [],
   "source": []
  },
  {
   "cell_type": "markdown",
   "id": "144abac0",
   "metadata": {},
   "source": [
    "# Q 35. np.arange(1,31).reshape(6,5), find array slicing for elements 2,8,14,20."
   ]
  },
  {
   "cell_type": "code",
   "execution_count": null,
   "id": "90b30b3e",
   "metadata": {},
   "outputs": [],
   "source": []
  },
  {
   "cell_type": "markdown",
   "id": "c6318d94",
   "metadata": {},
   "source": [
    "# Q 36. Create a correlation matrix on EDVisits."
   ]
  },
  {
   "cell_type": "code",
   "execution_count": null,
   "id": "1e749daa",
   "metadata": {},
   "outputs": [],
   "source": []
  },
  {
   "cell_type": "markdown",
   "id": "aee7542b",
   "metadata": {},
   "source": [
    "# Bonus : "
   ]
  },
  {
   "cell_type": "markdown",
   "id": "81321c77",
   "metadata": {},
   "source": [
    "# Q 37. Write a function to print all the upper case letter of a given sentence."
   ]
  },
  {
   "cell_type": "code",
   "execution_count": null,
   "id": "53d10b1e",
   "metadata": {},
   "outputs": [],
   "source": []
  },
  {
   "cell_type": "markdown",
   "id": "8218d09d",
   "metadata": {},
   "source": [
    "# Q 38. Number of patients on 'Transfer' based on primary diagnosis."
   ]
  },
  {
   "cell_type": "code",
   "execution_count": null,
   "id": "eda3539b",
   "metadata": {},
   "outputs": [],
   "source": []
  },
  {
   "cell_type": "markdown",
   "id": "51a18c2a",
   "metadata": {},
   "source": [
    "# Answer: "
   ]
  },
  {
   "cell_type": "markdown",
   "id": "c3ae1391",
   "metadata": {},
   "source": [
    "# Q 39. Get the FirstName, LastName of the Patients whose reason for visit is Migraine. Use EDUnique Sheet for reason for visit."
   ]
  },
  {
   "cell_type": "code",
   "execution_count": null,
   "id": "345c8d33",
   "metadata": {},
   "outputs": [],
   "source": []
  },
  {
   "cell_type": "markdown",
   "id": "da257c18",
   "metadata": {},
   "source": [
    "# Q 40. Plot a graph showing the count of patients for the reason visited the hospital."
   ]
  },
  {
   "cell_type": "code",
   "execution_count": null,
   "id": "d763adbc",
   "metadata": {},
   "outputs": [],
   "source": []
  },
  {
   "cell_type": "markdown",
   "id": "d630871d",
   "metadata": {},
   "source": [
    "# Q 41. Find the visit type with maximum 'No Show'."
   ]
  },
  {
   "cell_type": "code",
   "execution_count": null,
   "id": "87a8a293",
   "metadata": {},
   "outputs": [],
   "source": []
  },
  {
   "cell_type": "code",
   "execution_count": null,
   "id": "9c18410a",
   "metadata": {},
   "outputs": [],
   "source": []
  },
  {
   "cell_type": "markdown",
   "id": "b48e206f",
   "metadata": {},
   "source": [
    "# Answer : "
   ]
  },
  {
   "cell_type": "markdown",
   "id": "85788e6f",
   "metadata": {},
   "source": [
    "# Q 42. Using loc , get the details of the providers where providerId is between 11 and 20 and ProviderSpecialty is Surgery."
   ]
  },
  {
   "cell_type": "code",
   "execution_count": null,
   "id": "1d3c561c",
   "metadata": {},
   "outputs": [],
   "source": []
  },
  {
   "cell_type": "markdown",
   "id": "ab6a39f8",
   "metadata": {},
   "source": [
    "# Q 43. In question 34, when the value is less than 6, print as -1,else print 99."
   ]
  },
  {
   "cell_type": "code",
   "execution_count": null,
   "id": "0f5403d5",
   "metadata": {},
   "outputs": [],
   "source": []
  },
  {
   "cell_type": "markdown",
   "id": "864dc8ae",
   "metadata": {},
   "source": [
    "# Q 44. Create a pivot table displaying average LOS based on Service and Primary Diagnosis."
   ]
  },
  {
   "cell_type": "code",
   "execution_count": null,
   "id": "5edd9af0",
   "metadata": {},
   "outputs": [],
   "source": []
  },
  {
   "cell_type": "markdown",
   "id": "24087edc",
   "metadata": {},
   "source": [
    "Method 2:"
   ]
  },
  {
   "cell_type": "code",
   "execution_count": null,
   "id": "ca1dca23",
   "metadata": {},
   "outputs": [],
   "source": []
  },
  {
   "cell_type": "code",
   "execution_count": null,
   "id": "ad6c75a9",
   "metadata": {},
   "outputs": [],
   "source": []
  },
  {
   "cell_type": "markdown",
   "id": "82de3034",
   "metadata": {},
   "source": [
    "# Bonus : "
   ]
  },
  {
   "cell_type": "markdown",
   "id": "4e357fca",
   "metadata": {},
   "source": [
    "# Q 45. Calculate mortality by diagnosis."
   ]
  },
  {
   "cell_type": "code",
   "execution_count": null,
   "id": "f2aab9c4",
   "metadata": {},
   "outputs": [],
   "source": []
  },
  {
   "cell_type": "code",
   "execution_count": null,
   "id": "09ef08cd",
   "metadata": {},
   "outputs": [],
   "source": []
  },
  {
   "cell_type": "markdown",
   "id": "d4360664",
   "metadata": {},
   "source": [
    "# Bonus : "
   ]
  },
  {
   "cell_type": "markdown",
   "id": "b4a45967",
   "metadata": {},
   "source": [
    "# Q 46. Write a code to split a sentence into words using regex."
   ]
  },
  {
   "cell_type": "code",
   "execution_count": null,
   "id": "c8979330",
   "metadata": {},
   "outputs": [],
   "source": []
  },
  {
   "cell_type": "markdown",
   "id": "21b4fd6c",
   "metadata": {},
   "source": [
    "# Q 47. Using indexing , loc to retrieve the row with maximum BloodPressureSystolic."
   ]
  },
  {
   "cell_type": "code",
   "execution_count": null,
   "id": "73e1de37",
   "metadata": {},
   "outputs": [],
   "source": []
  },
  {
   "cell_type": "markdown",
   "id": "a96ac976",
   "metadata": {},
   "source": [
    "# Answer : "
   ]
  },
  {
   "cell_type": "markdown",
   "id": "fadc9217",
   "metadata": {},
   "source": [
    "# Q 48. Display the average LOS based on Service and Discharge Disposition(Maintain the column Hierarchy)."
   ]
  },
  {
   "cell_type": "code",
   "execution_count": null,
   "id": "d66233b1",
   "metadata": {},
   "outputs": [],
   "source": []
  },
  {
   "cell_type": "markdown",
   "id": "625d859c",
   "metadata": {},
   "source": [
    "# Q 49. Retrieve the count of patients who are prone to hypertension crisis. (SBP>180 & DBP>120)."
   ]
  },
  {
   "cell_type": "code",
   "execution_count": null,
   "id": "52beb5e8",
   "metadata": {},
   "outputs": [],
   "source": []
  },
  {
   "cell_type": "markdown",
   "id": "24a57b80",
   "metadata": {},
   "source": [
    "# Q 50. Which departmentID has maximum number of visits scheduled."
   ]
  },
  {
   "cell_type": "code",
   "execution_count": null,
   "id": "eb7a877e",
   "metadata": {},
   "outputs": [],
   "source": []
  },
  {
   "cell_type": "markdown",
   "id": "cd061a85",
   "metadata": {},
   "source": [
    "# Answer : "
   ]
  },
  {
   "cell_type": "markdown",
   "id": "7fa86d5e",
   "metadata": {},
   "source": [
    "# Q 51. Display patient details where \"ReasonForVisit\" is either 'Migraine' or 'Pneumonia' and Acuity is 2 or more."
   ]
  },
  {
   "cell_type": "code",
   "execution_count": null,
   "id": "56242bfd",
   "metadata": {},
   "outputs": [],
   "source": []
  },
  {
   "cell_type": "markdown",
   "id": "240610c0",
   "metadata": {},
   "source": [
    "# Q 52. Retrieve the row with minimum DBP using sorting technique."
   ]
  },
  {
   "cell_type": "code",
   "execution_count": null,
   "id": "f258d4c5",
   "metadata": {},
   "outputs": [],
   "source": []
  },
  {
   "cell_type": "code",
   "execution_count": null,
   "id": "d0a8ac97",
   "metadata": {},
   "outputs": [],
   "source": []
  },
  {
   "cell_type": "markdown",
   "id": "eb0e22bf",
   "metadata": {},
   "source": [
    "# Answer : "
   ]
  },
  {
   "cell_type": "markdown",
   "id": "63559241",
   "metadata": {},
   "source": [
    "# Q 53.Take the ReasonForVisit from user, find the number of patients admitted with that ReasonForVisit."
   ]
  },
  {
   "cell_type": "code",
   "execution_count": null,
   "id": "293518aa",
   "metadata": {},
   "outputs": [],
   "source": []
  },
  {
   "cell_type": "code",
   "execution_count": null,
   "id": "4366aa80",
   "metadata": {},
   "outputs": [],
   "source": []
  },
  {
   "cell_type": "markdown",
   "id": "eed4b803",
   "metadata": {},
   "source": [
    "# Q 54. Mortality O.E."
   ]
  },
  {
   "cell_type": "code",
   "execution_count": null,
   "id": "7d9043b9",
   "metadata": {},
   "outputs": [],
   "source": []
  },
  {
   "cell_type": "code",
   "execution_count": null,
   "id": "f427d453",
   "metadata": {},
   "outputs": [],
   "source": []
  },
  {
   "cell_type": "code",
   "execution_count": null,
   "id": "cec922f8",
   "metadata": {},
   "outputs": [],
   "source": []
  },
  {
   "cell_type": "code",
   "execution_count": null,
   "id": "3733fda2",
   "metadata": {},
   "outputs": [],
   "source": []
  },
  {
   "cell_type": "markdown",
   "id": "ff336dde",
   "metadata": {},
   "source": [
    "# Answer : "
   ]
  },
  {
   "cell_type": "markdown",
   "id": "d171210b",
   "metadata": {},
   "source": [
    "# Q 55. Create a bar chart on service & expected length of stay."
   ]
  },
  {
   "cell_type": "code",
   "execution_count": null,
   "id": "c70ab9a7",
   "metadata": {},
   "outputs": [],
   "source": []
  },
  {
   "cell_type": "markdown",
   "id": "c77808dd",
   "metadata": {},
   "source": [
    "# Q 56. Count of canceled status."
   ]
  },
  {
   "cell_type": "code",
   "execution_count": null,
   "id": "14949ffb",
   "metadata": {},
   "outputs": [],
   "source": []
  },
  {
   "cell_type": "markdown",
   "id": "c08d715f",
   "metadata": {},
   "source": [
    "# Answer: "
   ]
  },
  {
   "cell_type": "markdown",
   "id": "66a3525f",
   "metadata": {},
   "source": [
    "# Q 57. Find the age prone to get stroke."
   ]
  },
  {
   "cell_type": "code",
   "execution_count": null,
   "id": "1f17a22b",
   "metadata": {},
   "outputs": [],
   "source": []
  },
  {
   "cell_type": "code",
   "execution_count": null,
   "id": "c1722932",
   "metadata": {},
   "outputs": [],
   "source": []
  },
  {
   "cell_type": "code",
   "execution_count": null,
   "id": "5887c9cd",
   "metadata": {},
   "outputs": [],
   "source": []
  },
  {
   "cell_type": "code",
   "execution_count": null,
   "id": "d9203ee4",
   "metadata": {},
   "outputs": [],
   "source": []
  },
  {
   "cell_type": "code",
   "execution_count": null,
   "id": "9c483f2c",
   "metadata": {},
   "outputs": [],
   "source": []
  },
  {
   "cell_type": "code",
   "execution_count": null,
   "id": "9c97f0a8",
   "metadata": {},
   "outputs": [],
   "source": []
  },
  {
   "cell_type": "code",
   "execution_count": null,
   "id": "ca798ea8",
   "metadata": {},
   "outputs": [],
   "source": []
  },
  {
   "cell_type": "markdown",
   "id": "f113a42e",
   "metadata": {},
   "source": [
    "# OBSERVATION 1:- People between 36 to 62 tend to have a stroke."
   ]
  },
  {
   "cell_type": "code",
   "execution_count": null,
   "id": "92dd30cd",
   "metadata": {},
   "outputs": [],
   "source": []
  },
  {
   "cell_type": "markdown",
   "id": "38b0e843",
   "metadata": {},
   "source": [
    "# Observation 2:- People between the range of 55-60 are most prone to have Stroke."
   ]
  },
  {
   "cell_type": "markdown",
   "id": "13e14473",
   "metadata": {},
   "source": [
    "# Q 58.Display total count of patients service wise based on gender."
   ]
  },
  {
   "cell_type": "code",
   "execution_count": null,
   "id": "86db9680",
   "metadata": {},
   "outputs": [],
   "source": []
  },
  {
   "cell_type": "markdown",
   "id": "20d989c9",
   "metadata": {},
   "source": [
    "# Q 59. Create a dataframe by splitting provider name to firstname and lastname with names for the columns."
   ]
  },
  {
   "cell_type": "code",
   "execution_count": null,
   "id": "ebebf7e2",
   "metadata": {},
   "outputs": [],
   "source": []
  },
  {
   "cell_type": "markdown",
   "id": "10fb49b7",
   "metadata": {},
   "source": [
    "# Q 60. Find the list of patients whose ExpectedLOS is greater than the value given by the user."
   ]
  },
  {
   "cell_type": "code",
   "execution_count": null,
   "id": "8aea6204",
   "metadata": {},
   "outputs": [],
   "source": []
  },
  {
   "cell_type": "code",
   "execution_count": null,
   "id": "7ff3384c",
   "metadata": {},
   "outputs": [],
   "source": []
  },
  {
   "cell_type": "code",
   "execution_count": null,
   "id": "10f0071a",
   "metadata": {},
   "outputs": [],
   "source": []
  },
  {
   "cell_type": "markdown",
   "id": "be9d02f3",
   "metadata": {},
   "source": [
    "# Q 61. Plot a graph by multiplotting on the same canvas (Take any set of x & y values)."
   ]
  },
  {
   "cell_type": "code",
   "execution_count": null,
   "id": "89467d16",
   "metadata": {},
   "outputs": [],
   "source": []
  },
  {
   "cell_type": "markdown",
   "id": "f80f626c",
   "metadata": {},
   "source": [
    "# Q 62. Display the data for all 'White Female' patients above the age of 50."
   ]
  },
  {
   "cell_type": "code",
   "execution_count": null,
   "id": "3eef2c46",
   "metadata": {},
   "outputs": [],
   "source": []
  },
  {
   "cell_type": "markdown",
   "id": "ffe8abb3",
   "metadata": {},
   "source": [
    "# Q 63. Using loc, retrieve the firstname and lastname of patients between indices 101 and 200."
   ]
  },
  {
   "cell_type": "code",
   "execution_count": null,
   "id": "a99f7cde",
   "metadata": {},
   "outputs": [],
   "source": []
  },
  {
   "cell_type": "markdown",
   "id": "958c0410",
   "metadata": {},
   "source": [
    "# Q 64. Using numpy functions, multiply the following arrays.\n",
    "### a=np.arange(6).reshape(2,3)\n",
    "### b=np.arange(6).reshape(3,2)\""
   ]
  },
  {
   "cell_type": "code",
   "execution_count": null,
   "id": "79572642",
   "metadata": {},
   "outputs": [],
   "source": []
  },
  {
   "cell_type": "code",
   "execution_count": null,
   "id": "5b185718",
   "metadata": {},
   "outputs": [],
   "source": []
  },
  {
   "cell_type": "code",
   "execution_count": null,
   "id": "da29775f",
   "metadata": {},
   "outputs": [],
   "source": []
  },
  {
   "cell_type": "markdown",
   "id": "2fb0ce21",
   "metadata": {},
   "source": [
    "# Q 65. Get the number of patients based on service and primary diagnosis."
   ]
  },
  {
   "cell_type": "code",
   "execution_count": null,
   "id": "42827628",
   "metadata": {},
   "outputs": [],
   "source": []
  },
  {
   "cell_type": "markdown",
   "id": "5b602f58",
   "metadata": {},
   "source": [
    "# Q 66. np.arange(1,31).reshape(6,5), find array slicing to get the elements 4,5,24,25,29,30."
   ]
  },
  {
   "cell_type": "code",
   "execution_count": null,
   "id": "16c09e71",
   "metadata": {},
   "outputs": [],
   "source": []
  },
  {
   "cell_type": "code",
   "execution_count": null,
   "id": "5f88345d",
   "metadata": {},
   "outputs": [],
   "source": []
  },
  {
   "cell_type": "markdown",
   "id": "97421a45",
   "metadata": {},
   "source": [
    "# Q 67. Make a pivot table by the no. of patients from the admission date till discharge date."
   ]
  },
  {
   "cell_type": "code",
   "execution_count": null,
   "id": "a665b89a",
   "metadata": {},
   "outputs": [],
   "source": []
  },
  {
   "cell_type": "markdown",
   "id": "d4d913e9",
   "metadata": {},
   "source": [
    "# Q 68. Display the data where actual LOS is greater than expected LOS."
   ]
  },
  {
   "cell_type": "code",
   "execution_count": null,
   "id": "5fe946b2",
   "metadata": {},
   "outputs": [],
   "source": []
  },
  {
   "cell_type": "markdown",
   "id": "2db0fffa",
   "metadata": {},
   "source": [
    "# Q 69. Details of the patients whose firstname or lastname contains string \"lau\" , should be case insensitive."
   ]
  },
  {
   "cell_type": "code",
   "execution_count": null,
   "id": "14f8cbfa",
   "metadata": {},
   "outputs": [],
   "source": []
  },
  {
   "cell_type": "markdown",
   "id": "9f031317",
   "metadata": {},
   "source": [
    "# Q 70. Plot a graph to show the distribution of expected mortality."
   ]
  },
  {
   "cell_type": "code",
   "execution_count": null,
   "id": "3c4d5ed7",
   "metadata": {},
   "outputs": [],
   "source": []
  },
  {
   "cell_type": "markdown",
   "id": "69e25975",
   "metadata": {},
   "source": [
    "# Q 71. Create a visualization on the count of patients based on primary diagnosis."
   ]
  },
  {
   "cell_type": "code",
   "execution_count": null,
   "id": "d79e083a",
   "metadata": {},
   "outputs": [],
   "source": []
  },
  {
   "cell_type": "markdown",
   "id": "d6ca808d",
   "metadata": {},
   "source": [
    "# Q 72. List male patients over the age of 60 who have undergone surgery from January-March 2019."
   ]
  },
  {
   "cell_type": "code",
   "execution_count": null,
   "id": "861f3e60",
   "metadata": {},
   "outputs": [],
   "source": []
  },
  {
   "cell_type": "code",
   "execution_count": null,
   "id": "86757b7a",
   "metadata": {},
   "outputs": [],
   "source": []
  },
  {
   "cell_type": "code",
   "execution_count": null,
   "id": "d147fda1",
   "metadata": {},
   "outputs": [],
   "source": []
  },
  {
   "cell_type": "code",
   "execution_count": null,
   "id": "02c86fae",
   "metadata": {},
   "outputs": [],
   "source": []
  },
  {
   "cell_type": "code",
   "execution_count": null,
   "id": "1a2d180e",
   "metadata": {},
   "outputs": [],
   "source": []
  },
  {
   "cell_type": "code",
   "execution_count": null,
   "id": "4e8f3563",
   "metadata": {},
   "outputs": [],
   "source": []
  },
  {
   "cell_type": "code",
   "execution_count": null,
   "id": "c466761d",
   "metadata": {},
   "outputs": [],
   "source": []
  },
  {
   "cell_type": "code",
   "execution_count": null,
   "id": "2d687bcd",
   "metadata": {},
   "outputs": [],
   "source": []
  },
  {
   "cell_type": "markdown",
   "id": "fa8d880e",
   "metadata": {},
   "source": [
    "# Q 73. Delete the column 'DischargeDispostion' iteratively."
   ]
  },
  {
   "cell_type": "code",
   "execution_count": null,
   "id": "dddccc2a",
   "metadata": {},
   "outputs": [],
   "source": []
  },
  {
   "cell_type": "code",
   "execution_count": null,
   "id": "8cc50277",
   "metadata": {},
   "outputs": [],
   "source": []
  },
  {
   "cell_type": "markdown",
   "id": "9b0662e1",
   "metadata": {},
   "source": [
    "# Q 74. Connect to sql and write a query to get Ambulatory visit record's year. (Attach screenshots for this question)"
   ]
  },
  {
   "cell_type": "code",
   "execution_count": null,
   "id": "ab528733",
   "metadata": {},
   "outputs": [],
   "source": []
  },
  {
   "cell_type": "markdown",
   "id": "dc94a255",
   "metadata": {},
   "source": [
    "# Q 75. Calculate the time spent in ED Department for each visit."
   ]
  },
  {
   "cell_type": "code",
   "execution_count": null,
   "id": "0d874be3",
   "metadata": {},
   "outputs": [],
   "source": []
  },
  {
   "cell_type": "code",
   "execution_count": null,
   "id": "6c324f9e",
   "metadata": {},
   "outputs": [],
   "source": []
  },
  {
   "cell_type": "markdown",
   "id": "ef7d4b96",
   "metadata": {},
   "source": [
    "# Q 76. Find the last name of the patients, by getting the first name from the user."
   ]
  },
  {
   "cell_type": "code",
   "execution_count": null,
   "id": "98495503",
   "metadata": {},
   "outputs": [],
   "source": []
  },
  {
   "cell_type": "markdown",
   "id": "99d053ae",
   "metadata": {},
   "source": [
    "# Q 77. Create a bar chart by making list on Acuity & EDDisposition column (with no duplicates) & make the hatchs onto the bar by using set_hatch() method."
   ]
  },
  {
   "cell_type": "code",
   "execution_count": null,
   "id": "412505f7",
   "metadata": {},
   "outputs": [],
   "source": []
  },
  {
   "cell_type": "code",
   "execution_count": null,
   "id": "06beb407",
   "metadata": {},
   "outputs": [],
   "source": []
  },
  {
   "cell_type": "code",
   "execution_count": null,
   "id": "2d95a3bf",
   "metadata": {},
   "outputs": [],
   "source": []
  },
  {
   "cell_type": "markdown",
   "id": "8e32939b",
   "metadata": {},
   "source": [
    "# Q 78. Find reasonForVisit with highest count of acuity 5 patients."
   ]
  },
  {
   "cell_type": "code",
   "execution_count": null,
   "id": "f8e04635",
   "metadata": {},
   "outputs": [],
   "source": []
  },
  {
   "cell_type": "markdown",
   "id": "6d33dcef",
   "metadata": {},
   "source": [
    "# Q 79. Which PrimaryDiagnosis has the biggest difference between maximum and minimum Expected LOS?"
   ]
  },
  {
   "cell_type": "code",
   "execution_count": null,
   "id": "c5c1b12c",
   "metadata": {},
   "outputs": [],
   "source": []
  },
  {
   "cell_type": "code",
   "execution_count": null,
   "id": "a3badfde",
   "metadata": {},
   "outputs": [],
   "source": []
  },
  {
   "cell_type": "code",
   "execution_count": null,
   "id": "24afda66",
   "metadata": {},
   "outputs": [],
   "source": []
  },
  {
   "cell_type": "code",
   "execution_count": null,
   "id": "e5eaa324",
   "metadata": {},
   "outputs": [],
   "source": []
  },
  {
   "cell_type": "markdown",
   "id": "bf1576d8",
   "metadata": {},
   "source": [
    "# Q 80. Write a code snippet to print different ProviderSpecialty ( use groupby and get the list of the groups)."
   ]
  },
  {
   "cell_type": "code",
   "execution_count": null,
   "id": "e1cefbbf",
   "metadata": {},
   "outputs": [],
   "source": []
  },
  {
   "cell_type": "code",
   "execution_count": null,
   "id": "a594ca0c",
   "metadata": {},
   "outputs": [],
   "source": []
  }
 ],
 "metadata": {
  "kernelspec": {
   "display_name": "Python 3 (ipykernel)",
   "language": "python",
   "name": "python3"
  },
  "language_info": {
   "codemirror_mode": {
    "name": "ipython",
    "version": 3
   },
   "file_extension": ".py",
   "mimetype": "text/x-python",
   "name": "python",
   "nbconvert_exporter": "python",
   "pygments_lexer": "ipython3",
   "version": "3.9.12"
  }
 },
 "nbformat": 4,
 "nbformat_minor": 5
}
